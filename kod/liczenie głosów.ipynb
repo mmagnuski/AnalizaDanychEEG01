{
 "cells": [
  {
   "cell_type": "code",
   "execution_count": 1,
   "metadata": {
    "collapsed": true
   },
   "outputs": [],
   "source": [
    "import numpy as np\n",
    "from matplotlib import pyplot as plt"
   ]
  },
  {
   "cell_type": "code",
   "execution_count": 2,
   "metadata": {
    "collapsed": true
   },
   "outputs": [],
   "source": [
    "dzień = ['poniedziałek', 'wtorek', 'środa', 'czwartek', 'piątek']\n",
    "okienko = ['08:30-10:00', '10:15-11:45', '12:00-13:30', \n",
    "           '13:45-15:15', '15:30-17:00', '17:15-18:45', \n",
    "           '19:00-20:30']\n",
    "\n",
    "głosy = \"\"\"\n",
    "juustte 'E4 E6 E7 F6 F7'\n",
    "terzioo 'B5 D6 F6 F7'\n",
    "gacek91 'D2 E4 E6'\n",
    "FNCY 'B5 B6 D6'\n",
    "violettaz 'B5 C6 F6'\n",
    "tomsitoms 'B5 C6 F6'\n",
    "mmista 'B5 C6 E6'\n",
    "inezgiemza 'B5 B6 E4'\n",
    "oborkowska 'B7 B8 C2 C4 C5 C6 D6 D7 D8 E4 E6 E7 E8 F6'\n",
    "moniakow 'B5 B6 B7 B8 C4 D6 D7 D8 E4'\n",
    "Linace123 'C5 C6 C7 D5 D6 D7 E4 E6 E7'\n",
    "majmis 'B5 C4 C5 D6 E4'\n",
    "mraciborski 'B5 C4 D6'\n",
    "kasiado 'B5, B6, C5, D6, E4'\n",
    "Mariszka 'C2, C3, C7, C8, D6, D7, D8, F6, F7, F8'\n",
    "ksndr 'B7 C3 C5 D7 E4 E6 F6 F7'\n",
    "jzamojska 'B5 B6 B7 C7 D6 D7 F6'\n",
    "kuchart 'B5 B6 C7 D5 E2 E4'\n",
    "wiktoriakowalczyk 'B5 B6 E4'\n",
    "AnastazjaR 'C5 C6 B6'\n",
    "hubertwoz 'B5 C4 C5 D6 D7 D8 E4 E6 E7 E8 F6 F7 F8'\n",
    "\"\"\"\n",
    "głosy = głosy.split('\\n')[1:-1]"
   ]
  },
  {
   "cell_type": "code",
   "execution_count": 3,
   "metadata": {
    "collapsed": false
   },
   "outputs": [],
   "source": [
    "def parse_votes(line):\n",
    "    kto, naco, _ = line.split(\"'\")\n",
    "    kto = kto[:-1]\n",
    "    naco = naco.split(' ')\n",
    "    return kto, naco\n",
    "\n",
    "votes = dict()\n",
    "for line in głosy:\n",
    "    kto, naco = parse_votes(line)\n",
    "    votes[kto] = naco"
   ]
  },
  {
   "cell_type": "code",
   "execution_count": 4,
   "metadata": {
    "collapsed": false
   },
   "outputs": [
    {
     "data": {
      "text/plain": [
       "[1, 1]"
      ]
     },
     "execution_count": 4,
     "metadata": {},
     "output_type": "execute_result"
    }
   ],
   "source": [
    "def termin2idx(termin):\n",
    "    days = list('BCDEF')\n",
    "    day = days.index(termin[0])\n",
    "    window = int(termin[1]) - 2\n",
    "    return [window, day]\n",
    "\n",
    "termin2idx('C3')"
   ]
  },
  {
   "cell_type": "code",
   "execution_count": 5,
   "metadata": {
    "collapsed": false
   },
   "outputs": [],
   "source": [
    "kalendarz = np.zeros([7, 5])\n",
    "for os in votes.keys():\n",
    "    vts = votes[os]\n",
    "    for v in vts:\n",
    "        idx = termin2idx(v)\n",
    "        kalendarz[idx[0], idx[1]] += 1"
   ]
  },
  {
   "cell_type": "code",
   "execution_count": 6,
   "metadata": {
    "collapsed": false
   },
   "outputs": [
    {
     "data": {
      "text/plain": [
       "array([[  0.,   2.,   1.,   1.,   0.],\n",
       "       [  0.,   2.,   0.,   0.,   0.],\n",
       "       [  0.,   5.,   0.,  12.,   0.],\n",
       "       [ 14.,   7.,   2.,   0.,   0.],\n",
       "       [  8.,   6.,  11.,   7.,   9.],\n",
       "       [  4.,   4.,   7.,   4.,   5.],\n",
       "       [  2.,   1.,   4.,   2.,   2.]])"
      ]
     },
     "execution_count": 6,
     "metadata": {},
     "output_type": "execute_result"
    }
   ],
   "source": [
    "kalendarz"
   ]
  },
  {
   "cell_type": "code",
   "execution_count": 7,
   "metadata": {
    "collapsed": false
   },
   "outputs": [
    {
     "data": {
      "text/plain": [
       "<matplotlib.image.AxesImage at 0x13ef27c6198>"
      ]
     },
     "execution_count": 7,
     "metadata": {},
     "output_type": "execute_result"
    },
    {
     "data": {
      "image/png": "[encoded data removed]",
      "text/plain": [
       "<matplotlib.figure.Figure at 0x13ef2721438>"
      ]
     },
     "metadata": {},
     "output_type": "display_data"
    }
   ],
   "source": [
    "%matplotlib inline\n",
    "plt.imshow(kalendarz, interpolation='none')"
   ]
  },
  {
   "cell_type": "code",
   "execution_count": 8,
   "metadata": {
    "collapsed": false
   },
   "outputs": [
    {
     "data": {
      "image/png": "[encoded data removed]",
      "text/plain": [
       "<matplotlib.figure.Figure at 0x13ef2766278>"
      ]
     },
     "metadata": {},
     "output_type": "display_data"
    }
   ],
   "source": [
    "# niestety poniedziałek odpada - to już dziś\n",
    "kalendarz = kalendarz[:, 1:]\n",
    "\n",
    "# wyświetlamy trochę ładniej\n",
    "fig, ax = plt.subplots(figsize=(5,7))\n",
    "im = ax.imshow(kalendarz, interpolation='none', cmap='viridis')\n",
    "im.axes.set_xticks([0, 1, 2, 3])\n",
    "im.axes.set_xticklabels(dzień[1:], fontname='Calibri', rotation=30)\n",
    "im.axes.set_yticks(range(7))\n",
    "im.axes.set_yticklabels(okienko);"
   ]
  },
  {
   "cell_type": "code",
   "execution_count": 9,
   "metadata": {
    "collapsed": false
   },
   "outputs": [
    {
     "data": {
      "text/plain": [
       "[['C2', 'C3'], ['C2', 'C4'], ['C2', 'C5'], ['C2', 'C6'], ['C2', 'C7']]"
      ]
     },
     "execution_count": 9,
     "metadata": {},
     "output_type": "execute_result"
    }
   ],
   "source": [
    "letters = list('CDEF')\n",
    "windows = list('2345678')\n",
    "\n",
    "# sprawdzamy każde dwa możliwe zestawienia terminów\n",
    "# patrzymy ile unikatowych osób może w sumie przyjść\n",
    "# przy takiej kombinacji\n",
    "all_terminy = [l + w for l in letters for w in windows]\n",
    "all_possible_pairs = [[i, j] for i in all_terminy for j in all_terminy if not i == j]\n",
    "\n",
    "# wyświetlalmy kilka\n",
    "all_possible_pairs[:5]"
   ]
  },
  {
   "cell_type": "code",
   "execution_count": 10,
   "metadata": {
    "collapsed": false
   },
   "outputs": [
    {
     "data": {
      "text/plain": [
       "13"
      ]
     },
     "execution_count": 10,
     "metadata": {},
     "output_type": "execute_result"
    }
   ],
   "source": [
    "def who_can(termin, votes):\n",
    "    can = list()\n",
    "    for prs, vts in votes.items():\n",
    "        if termin in vts:\n",
    "            can.append(prs)\n",
    "    return can\n",
    "len(who_can('B5', votes))"
   ]
  },
  {
   "cell_type": "code",
   "execution_count": 12,
   "metadata": {
    "collapsed": false
   },
   "outputs": [
    {
     "data": {
      "text/plain": [
       "['violettaz',\n",
       " 'FNCY',\n",
       " 'inezgiemza',\n",
       " 'wiktoriakowalczyk',\n",
       " 'kasiado',\n",
       " 'hubertwoz']"
      ]
     },
     "execution_count": 12,
     "metadata": {},
     "output_type": "execute_result"
    }
   ],
   "source": [
    "def who_can_any_of(terminy, votes):\n",
    "    can = list()\n",
    "    for trm in terminy:\n",
    "        os = who_can(trm, votes)\n",
    "        can += os\n",
    "    return set(can)\n",
    "\n",
    "list(who_can_any_of(['B5', 'E4'], votes))[:6]"
   ]
  },
  {
   "cell_type": "code",
   "execution_count": 13,
   "metadata": {
    "collapsed": false
   },
   "outputs": [
    {
     "data": {
      "text/plain": [
       "19"
      ]
     },
     "execution_count": 13,
     "metadata": {},
     "output_type": "execute_result"
    }
   ],
   "source": [
    "ilemoże = lambda trm: len(who_can_any_of(trm, votes))\n",
    "ilemoże(['B5', 'E4'])"
   ]
  },
  {
   "cell_type": "code",
   "execution_count": 14,
   "metadata": {
    "collapsed": false
   },
   "outputs": [
    {
     "data": {
      "text/plain": [
       "[<matplotlib.lines.Line2D at 0x13ef30daa20>]"
      ]
     },
     "execution_count": 14,
     "metadata": {},
     "output_type": "execute_result"
    },
    {
     "data": {
      "image/png": "[encoded data removed]",
      "text/plain": [
       "<matplotlib.figure.Figure at 0x13ef27c6c88>"
      ]
     },
     "metadata": {},
     "output_type": "display_data"
    }
   ],
   "source": [
    "ile = list(map(ilemoże, all_possible_pairs))\n",
    "plt.plot(ile)"
   ]
  },
  {
   "cell_type": "code",
   "execution_count": 15,
   "metadata": {
    "collapsed": false
   },
   "outputs": [
    {
     "data": {
      "text/plain": [
       "[<matplotlib.lines.Line2D at 0x13ef31467f0>]"
      ]
     },
     "execution_count": 15,
     "metadata": {},
     "output_type": "execute_result"
    },
    {
     "data": {
      "image/png": "[encoded data removed]",
      "text/plain": [
       "<matplotlib.figure.Figure at 0x13ef30e8278>"
      ]
     },
     "metadata": {},
     "output_type": "display_data"
    }
   ],
   "source": [
    "ile_c = ile.copy()\n",
    "ile_c.sort()\n",
    "plt.plot(ile_c)"
   ]
  },
  {
   "cell_type": "code",
   "execution_count": 16,
   "metadata": {
    "collapsed": false
   },
   "outputs": [
    {
     "name": "stdout",
     "output_type": "stream",
     "text": [
      "16 [123 312 436 443 456 691]\n"
     ]
    }
   ],
   "source": [
    "ile = np.array(ile)\n",
    "max_osb = ile.max()\n",
    "ktore_terminy = np.where(ile == max_osb)[0]\n",
    "print(max_osb, ktore_terminy)"
   ]
  },
  {
   "cell_type": "code",
   "execution_count": 17,
   "metadata": {
    "collapsed": false
   },
   "outputs": [
    {
     "name": "stdout",
     "output_type": "stream",
     "text": [
      "Zagłosowało 21 osób\n",
      "Dwa terminy, które maksymalizują liczbę obecnych osób:\n",
      "wtorek 15:30-17:00 oraz czwartek 12:00-13:30\n",
      "środa 15:30-17:00 oraz czwartek 12:00-13:30\n",
      "czwartek 12:00-13:30 oraz wtorek 15:30-17:00\n",
      "czwartek 12:00-13:30 oraz środa 15:30-17:00\n",
      "czwartek 12:00-13:30 oraz piątek 15:30-17:00\n",
      "piątek 15:30-17:00 oraz czwartek 12:00-13:30\n"
     ]
    }
   ],
   "source": [
    "print('Zagłosowało {} osób'.format(len(votes.keys())))\n",
    "print('Dwa terminy, które maksymalizują liczbę obecnych osób:')\n",
    "for t in ktore_terminy:\n",
    "    trm = all_possible_pairs[t]\n",
    "    tekst = ''\n",
    "    idx1 = termin2idx(trm[0])\n",
    "    tekst += dzień[idx1[1]] + ' ' + okienko[idx1[0]]\n",
    "    tekst += ' oraz '\n",
    "    idx1 = termin2idx(trm[1])\n",
    "    tekst += dzień[idx1[1]] + ' ' + okienko[idx1[0]]\n",
    "    print(tekst)"
   ]
  }
 ],
 "metadata": {
  "kernelspec": {
   "display_name": "Python 3",
   "language": "python",
   "name": "python3"
  },
  "language_info": {
   "codemirror_mode": {
    "name": "ipython",
    "version": 3
   },
   "file_extension": ".py",
   "mimetype": "text/x-python",
   "name": "python",
   "nbconvert_exporter": "python",
   "pygments_lexer": "ipython3",
   "version": "3.5.1"
  }
 },
 "nbformat": 4,
 "nbformat_minor": 0
}
